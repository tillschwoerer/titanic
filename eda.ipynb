{
 "cells": [
  {
   "cell_type": "code",
   "execution_count": null,
   "id": "9c4ff8ac",
   "metadata": {},
   "outputs": [],
   "source": []
  }
 ],
 "metadata": {
  "language_info": {
   "name": "python"
  }
 },
 "nbformat": 4,
 "nbformat_minor": 5
}
