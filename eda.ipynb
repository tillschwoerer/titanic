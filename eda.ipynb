{
 "cells": [
  {
   "cell_type": "code",
   "execution_count": 1,
   "id": "9c4ff8ac",
   "metadata": {},
   "outputs": [],
   "source": [
    "import pandas as pd"
   ]
  },
  {
   "cell_type": "code",
   "execution_count": 2,
   "id": "d3ad9c57",
   "metadata": {},
   "outputs": [
    {
     "data": {
      "application/vnd.microsoft.datawrangler.viewer.v0+json": {
       "columns": [
        {
         "name": "index",
         "rawType": "int64",
         "type": "integer"
        },
        {
         "name": "first_name",
         "rawType": "object",
         "type": "string"
        },
        {
         "name": "family_name",
         "rawType": "object",
         "type": "string"
        },
        {
         "name": "type",
         "rawType": "object",
         "type": "string"
        },
        {
         "name": "ticket_number",
         "rawType": "float64",
         "type": "float"
        },
        {
         "name": "pclass",
         "rawType": "object",
         "type": "unknown"
        },
        {
         "name": "departure",
         "rawType": "object",
         "type": "string"
        },
        {
         "name": "price",
         "rawType": "float64",
         "type": "float"
        },
        {
         "name": "survived",
         "rawType": "bool",
         "type": "boolean"
        },
        {
         "name": "lifeboat",
         "rawType": "object",
         "type": "unknown"
        },
        {
         "name": "body_no",
         "rawType": "float64",
         "type": "float"
        },
        {
         "name": "nationality",
         "rawType": "object",
         "type": "string"
        },
        {
         "name": "gender",
         "rawType": "object",
         "type": "string"
        },
        {
         "name": "age",
         "rawType": "float64",
         "type": "float"
        },
        {
         "name": "marital_status",
         "rawType": "object",
         "type": "string"
        },
        {
         "name": "number_relatives_onboard",
         "rawType": "int64",
         "type": "integer"
        },
        {
         "name": "home_location",
         "rawType": "object",
         "type": "string"
        },
        {
         "name": "destination",
         "rawType": "object",
         "type": "unknown"
        },
        {
         "name": "age_at_death",
         "rawType": "float64",
         "type": "float"
        },
        {
         "name": "occupation",
         "rawType": "object",
         "type": "unknown"
        },
        {
         "name": "department",
         "rawType": "object",
         "type": "unknown"
        },
        {
         "name": "works_for",
         "rawType": "object",
         "type": "unknown"
        }
       ],
       "ref": "896b0f2e-d749-478f-afef-26ba956802d7",
       "ref": "fa8a17f0-580e-4fa4-8427-0f637a12d7ff",
       "rows": [
        [
         "0",
         "Luka",
         "Orešković",
         "Passenger",
         "315094.0",
         "3rd Class Passengers",
         "Southampton",
         "8.0",
         "False",
         null,
         null,
         "Croatian",
         "Male",
         "20.0",
         "Married",
         "3",
         "Konjsko Brdo, Croatia [Austria-Hungary]",
         "Chicago, Illinois, United States",
         "20.0",
         "Farmer",
         null,
         null
        ],
        [
         "1",
         "Joseph Francis",
         "Akerman",
         "Crew",
         null,
         null,
         "Southampton",
         null,
         "False",
         null,
         null,
         "English",
         "Male",
         "37.0",
         "Married",
         "1",
         "Southampton, Hampshire, England",
         null,
         "37.0",
         "Assistant Pantryman Steward",
         "Victualling Crew",
         "White Star Line"
        ],
        [
         "2",
         "Mary Elizabeth",
         "Davison",
         "Passenger",
         "386525.0",
         "3rd Class Passengers",
         "Southampton",
         "16.0",
         "True",
         "boat 10",
         null,
         "English",
         "Female",
         "34.0",
         "Married",
         "2",
         "Liverpool, Lancashire, England",
         "Bedford, Ohio, United States",
         "61.0",
         null,
         null,
         null
        ],
        [
         "3",
         "Ernest Edward Samuel",
         "Freeman",
         "Crew",
         null,
         null,
         "Belfast",
         null,
         "False",
         null,
         null,
         "English",
         "Male",
         "45.0",
         "Married",
         "1",
         "Southampton, Hampshire, England",
         null,
         null,
         "Deck Steward (1st Class)",
         "Victualling Crew",
         "White Star Line"
        ],
        [
         "4",
         "George Alfred",
         "Levett",
         "Crew",
         null,
         null,
         "Belfast",
         null,
         "False",
         null,
         null,
         "English",
         "Male",
         "25.0",
         "Married",
         "2",
         "Southampton, Hampshire, England",
         null,
         "25.0",
         "Assistant Pantryman Steward (1st Class)",
         "Victualling Crew",
         "White Star Line"
        ]
       ],
       "shape": {
        "columns": 21,
        "rows": 5
       }
      },
      "text/html": [
       "<div>\n",
       "<style scoped>\n",
       "    .dataframe tbody tr th:only-of-type {\n",
       "        vertical-align: middle;\n",
       "    }\n",
       "\n",
       "    .dataframe tbody tr th {\n",
       "        vertical-align: top;\n",
       "    }\n",
       "\n",
       "    .dataframe thead th {\n",
       "        text-align: right;\n",
       "    }\n",
       "</style>\n",
       "<table border=\"1\" class=\"dataframe\">\n",
       "  <thead>\n",
       "    <tr style=\"text-align: right;\">\n",
       "      <th></th>\n",
       "      <th>first_name</th>\n",
       "      <th>family_name</th>\n",
       "      <th>type</th>\n",
       "      <th>ticket_number</th>\n",
       "      <th>pclass</th>\n",
       "      <th>departure</th>\n",
       "      <th>price</th>\n",
       "      <th>survived</th>\n",
       "      <th>lifeboat</th>\n",
       "      <th>body_no</th>\n",
       "      <th>...</th>\n",
       "      <th>gender</th>\n",
       "      <th>age</th>\n",
       "      <th>marital_status</th>\n",
       "      <th>number_relatives_onboard</th>\n",
       "      <th>home_location</th>\n",
       "      <th>destination</th>\n",
       "      <th>age_at_death</th>\n",
       "      <th>occupation</th>\n",
       "      <th>department</th>\n",
       "      <th>works_for</th>\n",
       "    </tr>\n",
       "  </thead>\n",
       "  <tbody>\n",
       "    <tr>\n",
       "      <th>0</th>\n",
       "      <td>Luka</td>\n",
       "      <td>Orešković</td>\n",
       "      <td>Passenger</td>\n",
       "      <td>315094.0</td>\n",
       "      <td>3rd Class Passengers</td>\n",
       "      <td>Southampton</td>\n",
       "      <td>8.0</td>\n",
       "      <td>False</td>\n",
       "      <td>NaN</td>\n",
       "      <td>NaN</td>\n",
       "      <td>...</td>\n",
       "      <td>Male</td>\n",
       "      <td>20.0</td>\n",
       "      <td>Married</td>\n",
       "      <td>3</td>\n",
       "      <td>Konjsko Brdo, Croatia [Austria-Hungary]</td>\n",
       "      <td>Chicago, Illinois, United States</td>\n",
       "      <td>20.0</td>\n",
       "      <td>Farmer</td>\n",
       "      <td>NaN</td>\n",
       "      <td>NaN</td>\n",
       "    </tr>\n",
       "    <tr>\n",
       "      <th>1</th>\n",
       "      <td>Joseph Francis</td>\n",
       "      <td>Akerman</td>\n",
       "      <td>Crew</td>\n",
       "      <td>NaN</td>\n",
       "      <td>NaN</td>\n",
       "      <td>Southampton</td>\n",
       "      <td>NaN</td>\n",
       "      <td>False</td>\n",
       "      <td>NaN</td>\n",
       "      <td>NaN</td>\n",
       "      <td>...</td>\n",
       "      <td>Male</td>\n",
       "      <td>37.0</td>\n",
       "      <td>Married</td>\n",
       "      <td>1</td>\n",
       "      <td>Southampton, Hampshire, England</td>\n",
       "      <td>NaN</td>\n",
       "      <td>37.0</td>\n",
       "      <td>Assistant Pantryman Steward</td>\n",
       "      <td>Victualling Crew</td>\n",
       "      <td>White Star Line</td>\n",
       "    </tr>\n",
       "    <tr>\n",
       "      <th>2</th>\n",
       "      <td>Mary Elizabeth</td>\n",
       "      <td>Davison</td>\n",
       "      <td>Passenger</td>\n",
       "      <td>386525.0</td>\n",
       "      <td>3rd Class Passengers</td>\n",
       "      <td>Southampton</td>\n",
       "      <td>16.0</td>\n",
       "      <td>True</td>\n",
       "      <td>boat 10</td>\n",
       "      <td>NaN</td>\n",
       "      <td>...</td>\n",
       "      <td>Female</td>\n",
       "      <td>34.0</td>\n",
       "      <td>Married</td>\n",
       "      <td>2</td>\n",
       "      <td>Liverpool, Lancashire, England</td>\n",
       "      <td>Bedford, Ohio, United States</td>\n",
       "      <td>61.0</td>\n",
       "      <td>NaN</td>\n",
       "      <td>NaN</td>\n",
       "      <td>NaN</td>\n",
       "    </tr>\n",
       "    <tr>\n",
       "      <th>3</th>\n",
       "      <td>Ernest Edward Samuel</td>\n",
       "      <td>Freeman</td>\n",
       "      <td>Crew</td>\n",
       "      <td>NaN</td>\n",
       "      <td>NaN</td>\n",
       "      <td>Belfast</td>\n",
       "      <td>NaN</td>\n",
       "      <td>False</td>\n",
       "      <td>NaN</td>\n",
       "      <td>NaN</td>\n",
       "      <td>...</td>\n",
       "      <td>Male</td>\n",
       "      <td>45.0</td>\n",
       "      <td>Married</td>\n",
       "      <td>1</td>\n",
       "      <td>Southampton, Hampshire, England</td>\n",
       "      <td>NaN</td>\n",
       "      <td>NaN</td>\n",
       "      <td>Deck Steward (1st Class)</td>\n",
       "      <td>Victualling Crew</td>\n",
       "      <td>White Star Line</td>\n",
       "    </tr>\n",
       "    <tr>\n",
       "      <th>4</th>\n",
       "      <td>George Alfred</td>\n",
       "      <td>Levett</td>\n",
       "      <td>Crew</td>\n",
       "      <td>NaN</td>\n",
       "      <td>NaN</td>\n",
       "      <td>Belfast</td>\n",
       "      <td>NaN</td>\n",
       "      <td>False</td>\n",
       "      <td>NaN</td>\n",
       "      <td>NaN</td>\n",
       "      <td>...</td>\n",
       "      <td>Male</td>\n",
       "      <td>25.0</td>\n",
       "      <td>Married</td>\n",
       "      <td>2</td>\n",
       "      <td>Southampton, Hampshire, England</td>\n",
       "      <td>NaN</td>\n",
       "      <td>25.0</td>\n",
       "      <td>Assistant Pantryman Steward (1st Class)</td>\n",
       "      <td>Victualling Crew</td>\n",
       "      <td>White Star Line</td>\n",
       "    </tr>\n",
       "  </tbody>\n",
       "</table>\n",
       "<p>5 rows × 21 columns</p>\n",
       "</div>"
      ],
      "text/plain": [
       "             first_name family_name       type  ticket_number  \\\n",
       "0                  Luka   Orešković  Passenger       315094.0   \n",
       "1        Joseph Francis     Akerman       Crew            NaN   \n",
       "2        Mary Elizabeth     Davison  Passenger       386525.0   \n",
       "3  Ernest Edward Samuel     Freeman       Crew            NaN   \n",
       "4         George Alfred      Levett       Crew            NaN   \n",
       "\n",
       "                 pclass    departure  price  survived lifeboat  body_no  ...  \\\n",
       "0  3rd Class Passengers  Southampton    8.0     False      NaN      NaN  ...   \n",
       "1                   NaN  Southampton    NaN     False      NaN      NaN  ...   \n",
       "2  3rd Class Passengers  Southampton   16.0      True  boat 10      NaN  ...   \n",
       "3                   NaN      Belfast    NaN     False      NaN      NaN  ...   \n",
       "4                   NaN      Belfast    NaN     False      NaN      NaN  ...   \n",
       "\n",
       "   gender   age  marital_status number_relatives_onboard  \\\n",
       "0    Male  20.0         Married                        3   \n",
       "1    Male  37.0         Married                        1   \n",
       "2  Female  34.0         Married                        2   \n",
       "3    Male  45.0         Married                        1   \n",
       "4    Male  25.0         Married                        2   \n",
       "\n",
       "                             home_location                       destination  \\\n",
       "0  Konjsko Brdo, Croatia [Austria-Hungary]  Chicago, Illinois, United States   \n",
       "1          Southampton, Hampshire, England                               NaN   \n",
       "2           Liverpool, Lancashire, England      Bedford, Ohio, United States   \n",
       "3          Southampton, Hampshire, England                               NaN   \n",
       "4          Southampton, Hampshire, England                               NaN   \n",
       "\n",
       "  age_at_death                               occupation        department  \\\n",
       "0         20.0                                   Farmer               NaN   \n",
       "1         37.0              Assistant Pantryman Steward  Victualling Crew   \n",
       "2         61.0                                      NaN               NaN   \n",
       "3          NaN                 Deck Steward (1st Class)  Victualling Crew   \n",
       "4         25.0  Assistant Pantryman Steward (1st Class)  Victualling Crew   \n",
       "\n",
       "         works_for  \n",
       "0              NaN  \n",
       "1  White Star Line  \n",
       "2              NaN  \n",
       "3  White Star Line  \n",
       "4  White Star Line  \n",
       "\n",
       "[5 rows x 21 columns]"
      ]
     },
     "execution_count": 2,
     "metadata": {},
     "output_type": "execute_result"
    }
   ],
   "source": [
    "df = pd.read_csv(\"titanic.csv\")\n",
    "df.head()"
   ]
  },
  {
   "cell_type": "code",
   "execution_count": 8,
   "id": "6b6dc58e",
   "metadata": {},
   "outputs": [
    {
     "data": {
      "application/vnd.microsoft.datawrangler.viewer.v0+json": {
       "columns": [
        {
         "name": "index",
         "rawType": "int64",
         "type": "integer"
        },
        {
         "name": "pclass",
         "rawType": "object",
         "type": "string"
        },
        {
         "name": "count",
         "rawType": "int64",
         "type": "integer"
        }
       ],
       "ref": "c4cbdc19-0196-4632-92c8-9d559ffb61fe",
       "rows": [
        [
         "0",
         "3rd Class Passengers",
         "708"
        ],
        [
         "1",
         "1st Class Passengers",
         "350"
        ],
        [
         "2",
         "2nd Class Passengers",
         "293"
        ]
       ],
       "shape": {
        "columns": 2,
        "rows": 3
       }
      },
      "text/html": [
       "<div>\n",
       "<style scoped>\n",
       "    .dataframe tbody tr th:only-of-type {\n",
       "        vertical-align: middle;\n",
       "    }\n",
       "\n",
       "    .dataframe tbody tr th {\n",
       "        vertical-align: top;\n",
       "    }\n",
       "\n",
       "    .dataframe thead th {\n",
       "        text-align: right;\n",
       "    }\n",
       "</style>\n",
       "<table border=\"1\" class=\"dataframe\">\n",
       "  <thead>\n",
       "    <tr style=\"text-align: right;\">\n",
       "      <th></th>\n",
       "      <th>pclass</th>\n",
       "      <th>count</th>\n",
       "    </tr>\n",
       "  </thead>\n",
       "  <tbody>\n",
       "    <tr>\n",
       "      <th>0</th>\n",
       "      <td>3rd Class Passengers</td>\n",
       "      <td>708</td>\n",
       "    </tr>\n",
       "    <tr>\n",
       "      <th>1</th>\n",
       "      <td>1st Class Passengers</td>\n",
       "      <td>350</td>\n",
       "    </tr>\n",
       "    <tr>\n",
       "      <th>2</th>\n",
       "      <td>2nd Class Passengers</td>\n",
       "      <td>293</td>\n",
       "    </tr>\n",
       "  </tbody>\n",
       "</table>\n",
       "</div>"
      ],
      "text/plain": [
       "                 pclass  count\n",
       "0  3rd Class Passengers    708\n",
       "1  1st Class Passengers    350\n",
       "2  2nd Class Passengers    293"
      ]
     },
     "execution_count": 8,
     "metadata": {},
     "output_type": "execute_result"
    }
   ],
   "source": [
    "import seaborn as sns\n",
    "data = df.pclass.value_counts().reset_index()\n",
    "data\n"
   ]
  },
  {
   "cell_type": "code",
   "execution_count": 9,
   "id": "9dda8773",
   "metadata": {},
   "outputs": [
    {
     "data": {
      "text/plain": [
       "<Axes: xlabel='pclass', ylabel='count'>"
      ]
     },
     "execution_count": 9,
     "metadata": {},
     "output_type": "execute_result"
    },
    {
     "data": {
      "image/png": "[encoded data removed]",
      "text/plain": [
       "<Figure size 640x480 with 1 Axes>"
      ]
     },
     "metadata": {},
     "output_type": "display_data"
    }
   ],
   "source": [
    "sns.barplot(data, x=\"pclass\", y=\"count\")"
   ]
  },
  {
   "cell_type": "code",
   "execution_count": null,
   "id": "fab76416",
   "metadata": {},
   "outputs": [],
   "source": []
  }
 ],
 "metadata": {
  "kernelspec": {
   "display_name": "programming",
   "language": "python",
   "name": "python3"
  },
  "language_info": {
   "codemirror_mode": {
    "name": "ipython",
    "version": 3
   },
   "file_extension": ".py",
   "mimetype": "text/x-python",
   "name": "python",
   "nbconvert_exporter": "python",
   "pygments_lexer": "ipython3",
   "version": "3.13.7"
  }
 },
 "nbformat": 4,
 "nbformat_minor": 5
}
